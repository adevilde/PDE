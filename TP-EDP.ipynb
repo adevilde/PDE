{
 "cells": [
  {
   "cell_type": "code",
   "execution_count": 1,
   "metadata": {},
   "outputs": [],
   "source": [
    "import matplotlib.pyplot as plt\n",
    "import mpl_toolkits.mplot3d\n",
    "import numpy as np\n",
    "import scipy.sparse as scps\n",
    "import scipy.sparse.linalg as ssl\n",
    "import math"
   ]
  },
  {
   "cell_type": "code",
   "execution_count": 5,
   "metadata": {},
   "outputs": [],
   "source": [
    "def maillage(n):\n",
    "#\n",
    "# Une discretisation possible d'une EDP elliptique sur le domaine ]0,1[ x ]0,1[\n",
    "# Le carre [0,1]x[0,1] est maille uniquement avec des triangles; \n",
    "# Les conditions limites sont de type Dirichlet uniquement   => neumann  =[];\n",
    "#\n",
    "# Entrees :\n",
    "# n : nombre de points par cote du care => Npts points de discretisation au\n",
    "# total\n",
    "#\n",
    "# Sorties :\n",
    "# coordinates : matrice a deux colonnes. Chaque ligne contient les \n",
    "# coordonnes 2D d'un des points de la discretisation. Ces sommets seront \n",
    "# identifies a l'indice de la ligne correspondante dans la matrice\n",
    "# coordinates.\n",
    "# elements3 : matrice a trois colonnes. Chaque ligne contient les indices \n",
    "# des sommets d'un element triangle, dans le sens antihoraire. \n",
    "# dirichlet : vecteur colonne des indices des sommets de la frontiere de\n",
    "# Dirichlet.\n",
    "# neumann : matrice a deux colonnes. Chaque ligne contient les indices \n",
    "# des deux sommets d'une arete de la frontiere de Neumann.\n",
    "# (neumann est vide sur cet exemple)\n",
    "#\n",
    "##################################################################################\n",
    "    h=1/(n-1)\n",
    "    npoin       = n*n ; \n",
    "    nelem       = 2*(n-1)*(n-1) ;\n",
    "    coordinates = np.zeros((npoin,2)); \n",
    "    elements3   = (np.zeros((nelem,3))).astype(int) ;\n",
    "    neumann     = [];\n",
    "    dirichlet=(np.zeros((4*n-4,1))).astype(int)\n",
    "    # Coordonnees et connectivites :\n",
    "    e = -1 ; \n",
    "    p = -1 ;\n",
    "    x=np.zeros((n+1,1))\n",
    "    x[n,0]=1.\n",
    "    for l in range (n+1):\n",
    "        x[l,0]=l*h\n",
    "    for j in range (n):\n",
    "            for i in range(n):\n",
    "                p = p + 1  \n",
    "                coordinates[p,0] = x[i,0]  \n",
    "                coordinates[p,1] = x[j,0] \n",
    "                if ((i != n-1) & (j != n-1)):\n",
    "                    p1 = p\n",
    "                    p2 = p1 + 1 \n",
    "                    p3 = p1 + n \n",
    "                    p4 = p2 + n \n",
    "                    e = e + 1 \n",
    "                    elements3[e,0] = p1 \n",
    "                    elements3[e,1] = p2 \n",
    "                    elements3[e,2] = p3 \n",
    "                    e = e + 1\n",
    "                    elements3[e,0] = p4 \n",
    "                    elements3[e,1] = p3 \n",
    "                    elements3[e,2] = p2 \n",
    "    #Liste des sommets de la frontiere de Dirichlet:\n",
    "    p=-1\n",
    "    for j in range(n):\n",
    "        p=p+1\n",
    "        dirichlet[p,0] = j  \n",
    "    for j in range(n*2-1,n*(n-1),n):\n",
    "        p=p+1\n",
    "        dirichlet[p,0] = j \n",
    "    for j in range(n*n-1,n*n-n-1,-1):\n",
    "        p=p+1\n",
    "        dirichlet[p,0] = j \n",
    "    for j in range(n*n-2*n,n-1,-n):\n",
    "        p=p+1\n",
    "        dirichlet[p,0] = j \n",
    "\n",
    "    return coordinates, elements3,dirichlet, neumann"
   ]
  },
  {
   "cell_type": "code",
   "execution_count": 3,
   "metadata": {},
   "outputs": [],
   "source": [
    "def show(coordinates,u):\n",
    "#\n",
    "# Fonction d'affichage de la solution u sur le maillage defini par\n",
    "# elements3, coordinates.\n",
    "#\n",
    "# Entrees:\n",
    "# elements3 : matrice a trois colonnes contenant les elements triangles\n",
    "# de la discretisation, identifies par les indices de leurs trois\n",
    "# sommets.\n",
    "# coordinates : matrice a deux colonnes contenant les coordonnes 2D des\n",
    "# points de la discretisation.\n",
    "# u : vecteur colonne de longueur egale au nombre de lignes de\n",
    "# coordinates contenant les valeurs de la solution a afficher aux\n",
    "# points de la discretisation.\n",
    "#\n",
    "# Sorties : Aucune, mais la fonction doit s'afficher dans une figure.\n",
    "##########################################################################\n",
    "    ax= plt.figure().add_subplot(projection='3d')\n",
    "    ax.plot_trisurf(coordinates[:,0],coordinates[:,1],u,linewidth=0.2,antialiased=True)\n",
    "    plt.show()"
   ]
  },
  {
   "cell_type": "markdown",
   "metadata": {},
   "source": [
    "**Partie I : maillage triangulaire et conditions de Dirichlet**"
   ]
  },
  {
   "cell_type": "code",
   "execution_count": 59,
   "metadata": {},
   "outputs": [],
   "source": [
    "def raideurElem(coordinates, T) :\n",
    "    \n",
    "    T = [coordinates[T[i]] for i in range(3)]\n",
    "\n",
    "    alpha = (T[1][0] - T[0][0]) * (T[2][1] - T[0][1]) - (T[1][1] - T[0][1]) * (T[2][0] - T[0][0])\n",
    "    gradEta = [[T[(j + 1) % 3][1] - T[(j + 2) % 3][1], \n",
    "                T[(j + 2) % 3][0] - T[(j + 1) % 3][0]] for j in range(3)] /alpha\n",
    "    gradEta = np.array(gradEta)\n",
    "    aire = alpha/2\n",
    "    M = aire * np.dot(gradEta, np.transpose(gradEta))\n",
    "\n",
    "    return M\n"
   ]
  },
  {
   "cell_type": "code",
   "execution_count": 80,
   "metadata": {},
   "outputs": [],
   "source": [
    "def raideur(n, coordinates, elements3) :\n",
    "    A = np.zeros(n*n)\n",
    "    for e in elements3 :\n",
    "        M = raideurElem(coordinates, e)\n",
    "        print(A)\n",
    "        for ir, ia in enumerate(e) :\n",
    "            for jr, ja in enumerate(e) :\n",
    "                A[ia  * n + ja] = M[ir][jr]\n",
    "    return A\n"
   ]
  },
  {
   "cell_type": "code",
   "execution_count": 81,
   "metadata": {},
   "outputs": [
    {
     "name": "stdout",
     "output_type": "stream",
     "text": [
      "[0. 0. 0. 0. 0. 0. 0. 0. 0. 0. 0. 0. 0. 0. 0. 0.]\n"
     ]
    },
    {
     "ename": "IndexError",
     "evalue": "index 16 is out of bounds for axis 0 with size 16",
     "output_type": "error",
     "traceback": [
      "\u001b[0;31m---------------------------------------------------------------------------\u001b[0m",
      "\u001b[0;31mIndexError\u001b[0m                                Traceback (most recent call last)",
      "\u001b[0;32m<ipython-input-81-134373fc0828>\u001b[0m in \u001b[0;36m<module>\u001b[0;34m\u001b[0m\n\u001b[1;32m      1\u001b[0m \u001b[0mn\u001b[0m \u001b[0;34m=\u001b[0m \u001b[0;36m4\u001b[0m\u001b[0;34m\u001b[0m\u001b[0;34m\u001b[0m\u001b[0m\n\u001b[1;32m      2\u001b[0m \u001b[0mcoordinates\u001b[0m\u001b[0;34m,\u001b[0m \u001b[0melements3\u001b[0m\u001b[0;34m,\u001b[0m \u001b[0mdirichlet\u001b[0m\u001b[0;34m,\u001b[0m \u001b[0mneumann\u001b[0m \u001b[0;34m=\u001b[0m \u001b[0mmaillage\u001b[0m\u001b[0;34m(\u001b[0m\u001b[0mn\u001b[0m\u001b[0;34m)\u001b[0m\u001b[0;34m\u001b[0m\u001b[0;34m\u001b[0m\u001b[0m\n\u001b[0;32m----> 3\u001b[0;31m \u001b[0mA\u001b[0m \u001b[0;34m=\u001b[0m \u001b[0mraideur\u001b[0m\u001b[0;34m(\u001b[0m\u001b[0mn\u001b[0m\u001b[0;34m,\u001b[0m \u001b[0mcoordinates\u001b[0m\u001b[0;34m,\u001b[0m \u001b[0melements3\u001b[0m\u001b[0;34m)\u001b[0m\u001b[0;34m\u001b[0m\u001b[0;34m\u001b[0m\u001b[0m\n\u001b[0m",
      "\u001b[0;32m<ipython-input-80-5dae588718e3>\u001b[0m in \u001b[0;36mraideur\u001b[0;34m(n, coordinates, elements3)\u001b[0m\n\u001b[1;32m      6\u001b[0m         \u001b[0;32mfor\u001b[0m \u001b[0mir\u001b[0m\u001b[0;34m,\u001b[0m \u001b[0mia\u001b[0m \u001b[0;32min\u001b[0m \u001b[0menumerate\u001b[0m\u001b[0;34m(\u001b[0m\u001b[0me\u001b[0m\u001b[0;34m)\u001b[0m \u001b[0;34m:\u001b[0m\u001b[0;34m\u001b[0m\u001b[0;34m\u001b[0m\u001b[0m\n\u001b[1;32m      7\u001b[0m             \u001b[0;32mfor\u001b[0m \u001b[0mjr\u001b[0m\u001b[0;34m,\u001b[0m \u001b[0mja\u001b[0m \u001b[0;32min\u001b[0m \u001b[0menumerate\u001b[0m\u001b[0;34m(\u001b[0m\u001b[0me\u001b[0m\u001b[0;34m)\u001b[0m \u001b[0;34m:\u001b[0m\u001b[0;34m\u001b[0m\u001b[0;34m\u001b[0m\u001b[0m\n\u001b[0;32m----> 8\u001b[0;31m                 \u001b[0mA\u001b[0m\u001b[0;34m[\u001b[0m\u001b[0mia\u001b[0m  \u001b[0;34m*\u001b[0m \u001b[0mn\u001b[0m \u001b[0;34m+\u001b[0m \u001b[0mja\u001b[0m\u001b[0;34m]\u001b[0m \u001b[0;34m=\u001b[0m \u001b[0mM\u001b[0m\u001b[0;34m[\u001b[0m\u001b[0mir\u001b[0m\u001b[0;34m]\u001b[0m\u001b[0;34m[\u001b[0m\u001b[0mjr\u001b[0m\u001b[0;34m]\u001b[0m\u001b[0;34m\u001b[0m\u001b[0;34m\u001b[0m\u001b[0m\n\u001b[0m\u001b[1;32m      9\u001b[0m     \u001b[0;32mreturn\u001b[0m \u001b[0mA\u001b[0m\u001b[0;34m\u001b[0m\u001b[0;34m\u001b[0m\u001b[0m\n",
      "\u001b[0;31mIndexError\u001b[0m: index 16 is out of bounds for axis 0 with size 16"
     ]
    }
   ],
   "source": [
    "n = 4\n",
    "coordinates, elements3, dirichlet, neumann = maillage(n)\n",
    "A = raideur(n, coordinates, elements3)\n"
   ]
  },
  {
   "cell_type": "markdown",
   "metadata": {},
   "source": [
    "**Partie II : maillage mixte et ajoût des conditions de Neumann**"
   ]
  },
  {
   "cell_type": "code",
   "execution_count": 4,
   "metadata": {},
   "outputs": [],
   "source": [
    "############################# Maillage mixte ################\n",
    "e3=np.array([[1,2,12],[2,3,12],[3,4,14],[4,5,14],[2,15,3],[3,15,4]]).astype(int)\n",
    "e4=np.array([[0,1,12,11],[11,12,13,10],[12,3,14,13],[10,13,8,9],[13,14,7,8],[14,5,6,7]]).astype(int)\n",
    "dds=np.array([2,15,4,6,7,8,9,10,11,0]).astype(int)\n",
    "nns=np.array([[4,5],[5,6],[0,1],[1,2]]).astype(int)\n",
    "ccs=np.array([[0.,0.],[0.33333333333333,0],[0.53333333333333,0.],\n",
    "                      [0.66666666666667,0.33333333333333],[1.,0.47],[1,0.66666666666667],\n",
    "                     [1.,1.],[0.66666666666667,1.],[0.33333333333333,1.], [0.,1.],\n",
    "                     [0.,0.66666666666667],[0.,0.33333333333333],[0.33333333333333,0.33333333333333],\n",
    "                     [0.33333333333333,0.66666666666667],[0.66666666666667,0.66666666666667],[1.,0.]])"
   ]
  },
  {
   "cell_type": "code",
   "execution_count": null,
   "metadata": {},
   "outputs": [],
   "source": []
  },
  {
   "cell_type": "markdown",
   "metadata": {},
   "source": [
    "**Compléments  :  un nouveau terme dans l'EDP**"
   ]
  },
  {
   "cell_type": "code",
   "execution_count": null,
   "metadata": {},
   "outputs": [],
   "source": []
  },
  {
   "cell_type": "code",
   "execution_count": null,
   "metadata": {},
   "outputs": [],
   "source": []
  }
 ],
 "metadata": {
  "kernelspec": {
   "display_name": "Python 3",
   "language": "python",
   "name": "python3"
  },
  "language_info": {
   "codemirror_mode": {
    "name": "ipython",
    "version": 3
   },
   "file_extension": ".py",
   "mimetype": "text/x-python",
   "name": "python",
   "nbconvert_exporter": "python",
   "pygments_lexer": "ipython3",
   "version": "3.10.6"
  }
 },
 "nbformat": 4,
 "nbformat_minor": 4
}
